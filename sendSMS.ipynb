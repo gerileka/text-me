{
 "cells": [
  {
   "cell_type": "code",
   "execution_count": 15,
   "metadata": {
    "ExecuteTime": {
     "end_time": "2021-11-01T17:03:02.026735Z",
     "start_time": "2021-11-01T17:03:00.293925Z"
    }
   },
   "outputs": [],
   "source": [
    "%run ./getData.ipynb"
   ]
  },
  {
   "cell_type": "code",
   "execution_count": 45,
   "metadata": {
    "ExecuteTime": {
     "end_time": "2021-11-01T17:20:41.491220Z",
     "start_time": "2021-11-01T17:20:41.255011Z"
    }
   },
   "outputs": [
    {
     "data": {
      "text/plain": [
       "[['Ticker', 'Last', 'Change', 'Change %'],\n",
       " ['Crude Oil', '84.20', '+0.63', '+0.75%'],\n",
       " ['Natural Gas', '5.19', '-0.24', '-4.42%'],\n",
       " ['Gold', '1794.00', '+10.10', '+0.57%'],\n",
       " ['Dow', '35800.00', '+96.00', '+0.27%'],\n",
       " ['S&P 500', '4602.75', '+5.75', '+0.13%'],\n",
       " ['Nasdaq 100', '15869.25', '+30.75', '+0.19%'],\n",
       " ['EUR/USD', '1.1593', '+0.0032', '+0.28%'],\n",
       " ['USD/JPY', '114.13', '+0.15', '+0.13%'],\n",
       " ['GBP/USD', '1.3663', '-0.0019', '-0.14%'],\n",
       " ['5-Year Treasury', '1.206', '+0.018', '+1.52%'],\n",
       " ['10-Year Treasury', '1.586', '+0.029', '+1.86%'],\n",
       " ['30-Year Treasury', '1.985', '+0.043', '+2.21%']]"
      ]
     },
     "execution_count": 45,
     "metadata": {},
     "output_type": "execute_result"
    }
   ],
   "source": [
    "result = getFinvizTable()\n",
    "# result = print(tabulate(result, headers='firstrow',numalign=\"center\"))\n",
    "result"
   ]
  },
  {
   "cell_type": "code",
   "execution_count": 61,
   "metadata": {
    "ExecuteTime": {
     "end_time": "2021-11-01T17:26:50.489360Z",
     "start_time": "2021-11-01T17:26:50.473402Z"
    }
   },
   "outputs": [],
   "source": [
    "final_result = \"Market Update by Geri Leka\"\n",
    "for i in result:\n",
    "    final_result = final_result + \"\\n\" + str(str(i).replace(\"[\",\"\").replace(\"]\",\"\"))"
   ]
  },
  {
   "cell_type": "code",
   "execution_count": 63,
   "metadata": {
    "ExecuteTime": {
     "end_time": "2021-11-01T17:26:52.667332Z",
     "start_time": "2021-11-01T17:26:52.155878Z"
    }
   },
   "outputs": [
    {
     "name": "stdout",
     "output_type": "stream",
     "text": [
      "SM5043a578623b4158bf0524eaa3a32126\n"
     ]
    }
   ],
   "source": [
    "from twilio.rest import Client \n",
    " \n",
    "account_sid = 'AC5f44420f50f56a1b73a22d58023916dd' \n",
    "auth_token = '2efe873e286a26b1ea6414677a575ee0' \n",
    "client = Client(account_sid, auth_token) \n",
    " \n",
    "message = client.messages.create(  \n",
    "                              messaging_service_sid='MG1755aa74a67f9792cf5bd9a00286fc65', \n",
    "                              body=final_result,      \n",
    "                              to='+33662481530' \n",
    "                          ) \n",
    " \n",
    "print(message.sid)"
   ]
  },
  {
   "cell_type": "code",
   "execution_count": null,
   "metadata": {},
   "outputs": [],
   "source": []
  }
 ],
 "metadata": {
  "kernelspec": {
   "display_name": "Python 3",
   "language": "python",
   "name": "python3"
  },
  "language_info": {
   "codemirror_mode": {
    "name": "ipython",
    "version": 3
   },
   "file_extension": ".py",
   "mimetype": "text/x-python",
   "name": "python",
   "nbconvert_exporter": "python",
   "pygments_lexer": "ipython3",
   "version": "3.7.3"
  },
  "latex_envs": {
   "LaTeX_envs_menu_present": true,
   "autoclose": false,
   "autocomplete": true,
   "bibliofile": "biblio.bib",
   "cite_by": "apalike",
   "current_citInitial": 1,
   "eqLabelWithNumbers": true,
   "eqNumInitial": 1,
   "hotkeys": {
    "equation": "Ctrl-E",
    "itemize": "Ctrl-I"
   },
   "labels_anchors": false,
   "latex_user_defs": false,
   "report_style_numbering": false,
   "user_envs_cfg": false
  }
 },
 "nbformat": 4,
 "nbformat_minor": 2
}
