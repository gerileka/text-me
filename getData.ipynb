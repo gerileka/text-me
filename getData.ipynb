{
 "cells": [
  {
   "cell_type": "code",
   "execution_count": 17,
   "metadata": {
    "ExecuteTime": {
     "end_time": "2021-11-01T17:04:27.266580Z",
     "start_time": "2021-11-01T17:04:27.256608Z"
    }
   },
   "outputs": [],
   "source": [
    "import requests \n",
    "import pandas as pd\n",
    "from bs4 import BeautifulSoup\n",
    "from tabulate import tabulate"
   ]
  },
  {
   "cell_type": "code",
   "execution_count": 18,
   "metadata": {
    "ExecuteTime": {
     "end_time": "2021-11-01T17:04:27.625640Z",
     "start_time": "2021-11-01T17:04:27.616664Z"
    }
   },
   "outputs": [],
   "source": [
    "def getFinvizTable():\n",
    "    headers = {'User-Agent': 'Mozilla/5.0 (Macintosh; Intel Mac OS X 10_11_5) AppleWebKit/537.36 (KHTML, like Gecko) Chrome/50.0.2661.102 Safari/537.36'}\n",
    "    getHomePage = requests.get(\"https://finviz.com/\", headers = headers)\n",
    "    soup = BeautifulSoup(getHomePage.content, \"html.parser\")\n",
    "\n",
    "    nameList = [\"Crude Oil\",\"Natural Gas\",\"Gold\",\"Dow\",\"S&P 500\",\"Nasdaq 100\",\"EUR/USD\",\n",
    "                \"USD/JPY\",\"GBP/USD\",\"5-Year Treasury\",\"10-Year Treasury\",\"30-Year Treasury\"]\n",
    "\n",
    "    table = [[\"Ticker\",\"Last\",\"Change\",\"Change %\"]]\n",
    "    for tr in soup.find_all(\"tr\")[:]:\n",
    "        try:\n",
    "            name_temp = tr.text.split(\"\\n\")[1]\n",
    "            if name_temp in nameList:\n",
    "                content_temp = tr.text.split(\"\\n\")\n",
    "                last_temp = content_temp[2]\n",
    "                change_temp = content_temp[3]\n",
    "                changePct_temp = content_temp[4]\n",
    "                list_content = [name_temp,last_temp,change_temp,changePct_temp]\n",
    "                table.append(list_content)\n",
    "        except:\n",
    "            pass\n",
    "        \n",
    "    #final_table = tabulate(table, headers='firstrow',numalign=\"center\")\n",
    "    \n",
    "    return table"
   ]
  },
  {
   "cell_type": "code",
   "execution_count": 19,
   "metadata": {
    "ExecuteTime": {
     "end_time": "2021-11-01T17:04:28.220497Z",
     "start_time": "2021-11-01T17:04:28.203540Z"
    }
   },
   "outputs": [],
   "source": [
    "# result = getFinvizTable()\n",
    "# result"
   ]
  }
 ],
 "metadata": {
  "kernelspec": {
   "display_name": "Python 3",
   "language": "python",
   "name": "python3"
  },
  "language_info": {
   "codemirror_mode": {
    "name": "ipython",
    "version": 3
   },
   "file_extension": ".py",
   "mimetype": "text/x-python",
   "name": "python",
   "nbconvert_exporter": "python",
   "pygments_lexer": "ipython3",
   "version": "3.7.3"
  },
  "latex_envs": {
   "LaTeX_envs_menu_present": true,
   "autoclose": false,
   "autocomplete": true,
   "bibliofile": "biblio.bib",
   "cite_by": "apalike",
   "current_citInitial": 1,
   "eqLabelWithNumbers": true,
   "eqNumInitial": 1,
   "hotkeys": {
    "equation": "Ctrl-E",
    "itemize": "Ctrl-I"
   },
   "labels_anchors": false,
   "latex_user_defs": false,
   "report_style_numbering": false,
   "user_envs_cfg": false
  }
 },
 "nbformat": 4,
 "nbformat_minor": 2
}
